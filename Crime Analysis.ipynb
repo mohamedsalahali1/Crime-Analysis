{
 "cells": [
  {
   "cell_type": "code",
   "execution_count": 2,
   "id": "c146e15c",
   "metadata": {},
   "outputs": [],
   "source": [
    "import pandas as pd\n",
    "import numpy as np\n",
    "import warnings\n",
    "warnings.filterwarnings('ignore')\n"
   ]
  },
  {
   "cell_type": "code",
   "execution_count": 3,
   "id": "2f47e56f",
   "metadata": {},
   "outputs": [],
   "source": [
    "df = pd.read_csv('Crime_Data_from_2020_to_Present.csv')"
   ]
  },
  {
   "cell_type": "code",
   "execution_count": 4,
   "id": "1034b6e0",
   "metadata": {},
   "outputs": [
    {
     "data": {
      "text/html": [
       "<div>\n",
       "<style scoped>\n",
       "    .dataframe tbody tr th:only-of-type {\n",
       "        vertical-align: middle;\n",
       "    }\n",
       "\n",
       "    .dataframe tbody tr th {\n",
       "        vertical-align: top;\n",
       "    }\n",
       "\n",
       "    .dataframe thead th {\n",
       "        text-align: right;\n",
       "    }\n",
       "</style>\n",
       "<table border=\"1\" class=\"dataframe\">\n",
       "  <thead>\n",
       "    <tr style=\"text-align: right;\">\n",
       "      <th></th>\n",
       "      <th>DR_NO</th>\n",
       "      <th>Date Rptd</th>\n",
       "      <th>DATE OCC</th>\n",
       "      <th>TIME OCC</th>\n",
       "      <th>AREA</th>\n",
       "      <th>AREA NAME</th>\n",
       "      <th>Rpt Dist No</th>\n",
       "      <th>Part 1-2</th>\n",
       "      <th>Crm Cd</th>\n",
       "      <th>Crm Cd Desc</th>\n",
       "      <th>...</th>\n",
       "      <th>Status</th>\n",
       "      <th>Status Desc</th>\n",
       "      <th>Crm Cd 1</th>\n",
       "      <th>Crm Cd 2</th>\n",
       "      <th>Crm Cd 3</th>\n",
       "      <th>Crm Cd 4</th>\n",
       "      <th>LOCATION</th>\n",
       "      <th>Cross Street</th>\n",
       "      <th>LAT</th>\n",
       "      <th>LON</th>\n",
       "    </tr>\n",
       "  </thead>\n",
       "  <tbody>\n",
       "    <tr>\n",
       "      <th>0</th>\n",
       "      <td>190326475</td>\n",
       "      <td>3/1/2020</td>\n",
       "      <td>3/1/2020 0:00</td>\n",
       "      <td>2130</td>\n",
       "      <td>7</td>\n",
       "      <td>Wilshire</td>\n",
       "      <td>784</td>\n",
       "      <td>1</td>\n",
       "      <td>510</td>\n",
       "      <td>VEHICLE - STOLEN</td>\n",
       "      <td>...</td>\n",
       "      <td>AA</td>\n",
       "      <td>Adult Arrest</td>\n",
       "      <td>510.0</td>\n",
       "      <td>998.0</td>\n",
       "      <td>NaN</td>\n",
       "      <td>NaN</td>\n",
       "      <td>1900 S  LONGWOOD                     AV</td>\n",
       "      <td>NaN</td>\n",
       "      <td>34.0375</td>\n",
       "      <td>-118.3506</td>\n",
       "    </tr>\n",
       "    <tr>\n",
       "      <th>1</th>\n",
       "      <td>200106753</td>\n",
       "      <td>2/9/2020</td>\n",
       "      <td>2/8/2020 0:00</td>\n",
       "      <td>1800</td>\n",
       "      <td>1</td>\n",
       "      <td>Central</td>\n",
       "      <td>182</td>\n",
       "      <td>1</td>\n",
       "      <td>330</td>\n",
       "      <td>BURGLARY FROM VEHICLE</td>\n",
       "      <td>...</td>\n",
       "      <td>IC</td>\n",
       "      <td>Invest Cont</td>\n",
       "      <td>330.0</td>\n",
       "      <td>998.0</td>\n",
       "      <td>NaN</td>\n",
       "      <td>NaN</td>\n",
       "      <td>1000 S  FLOWER                       ST</td>\n",
       "      <td>NaN</td>\n",
       "      <td>34.0444</td>\n",
       "      <td>-118.2628</td>\n",
       "    </tr>\n",
       "    <tr>\n",
       "      <th>2</th>\n",
       "      <td>200320258</td>\n",
       "      <td>11/11/2020</td>\n",
       "      <td>11/4/2020 0:00</td>\n",
       "      <td>1700</td>\n",
       "      <td>3</td>\n",
       "      <td>Southwest</td>\n",
       "      <td>356</td>\n",
       "      <td>1</td>\n",
       "      <td>480</td>\n",
       "      <td>BIKE - STOLEN</td>\n",
       "      <td>...</td>\n",
       "      <td>IC</td>\n",
       "      <td>Invest Cont</td>\n",
       "      <td>480.0</td>\n",
       "      <td>NaN</td>\n",
       "      <td>NaN</td>\n",
       "      <td>NaN</td>\n",
       "      <td>1400 W  37TH                         ST</td>\n",
       "      <td>NaN</td>\n",
       "      <td>34.0210</td>\n",
       "      <td>-118.3002</td>\n",
       "    </tr>\n",
       "    <tr>\n",
       "      <th>3</th>\n",
       "      <td>200907217</td>\n",
       "      <td>5/10/2023</td>\n",
       "      <td>3/10/2020 0:00</td>\n",
       "      <td>2037</td>\n",
       "      <td>9</td>\n",
       "      <td>Van Nuys</td>\n",
       "      <td>964</td>\n",
       "      <td>1</td>\n",
       "      <td>343</td>\n",
       "      <td>SHOPLIFTING-GRAND THEFT ($950.01 &amp; OVER)</td>\n",
       "      <td>...</td>\n",
       "      <td>IC</td>\n",
       "      <td>Invest Cont</td>\n",
       "      <td>343.0</td>\n",
       "      <td>NaN</td>\n",
       "      <td>NaN</td>\n",
       "      <td>NaN</td>\n",
       "      <td>14000    RIVERSIDE                    DR</td>\n",
       "      <td>NaN</td>\n",
       "      <td>34.1576</td>\n",
       "      <td>-118.4387</td>\n",
       "    </tr>\n",
       "    <tr>\n",
       "      <th>4</th>\n",
       "      <td>200412582</td>\n",
       "      <td>9/9/2020</td>\n",
       "      <td>9/9/2020 0:00</td>\n",
       "      <td>630</td>\n",
       "      <td>4</td>\n",
       "      <td>Hollenbeck</td>\n",
       "      <td>413</td>\n",
       "      <td>1</td>\n",
       "      <td>510</td>\n",
       "      <td>VEHICLE - STOLEN</td>\n",
       "      <td>...</td>\n",
       "      <td>IC</td>\n",
       "      <td>Invest Cont</td>\n",
       "      <td>510.0</td>\n",
       "      <td>NaN</td>\n",
       "      <td>NaN</td>\n",
       "      <td>NaN</td>\n",
       "      <td>200 E  AVENUE 28</td>\n",
       "      <td>NaN</td>\n",
       "      <td>34.0820</td>\n",
       "      <td>-118.2130</td>\n",
       "    </tr>\n",
       "  </tbody>\n",
       "</table>\n",
       "<p>5 rows × 28 columns</p>\n",
       "</div>"
      ],
      "text/plain": [
       "       DR_NO   Date Rptd        DATE OCC  TIME OCC  AREA   AREA NAME  \\\n",
       "0  190326475    3/1/2020   3/1/2020 0:00      2130     7    Wilshire   \n",
       "1  200106753    2/9/2020   2/8/2020 0:00      1800     1     Central   \n",
       "2  200320258  11/11/2020  11/4/2020 0:00      1700     3   Southwest   \n",
       "3  200907217   5/10/2023  3/10/2020 0:00      2037     9    Van Nuys   \n",
       "4  200412582    9/9/2020   9/9/2020 0:00       630     4  Hollenbeck   \n",
       "\n",
       "   Rpt Dist No  Part 1-2  Crm Cd                               Crm Cd Desc  \\\n",
       "0          784         1     510                          VEHICLE - STOLEN   \n",
       "1          182         1     330                     BURGLARY FROM VEHICLE   \n",
       "2          356         1     480                             BIKE - STOLEN   \n",
       "3          964         1     343  SHOPLIFTING-GRAND THEFT ($950.01 & OVER)   \n",
       "4          413         1     510                          VEHICLE - STOLEN   \n",
       "\n",
       "   ... Status   Status Desc Crm Cd 1 Crm Cd 2  Crm Cd 3 Crm Cd 4  \\\n",
       "0  ...     AA  Adult Arrest    510.0    998.0       NaN      NaN   \n",
       "1  ...     IC   Invest Cont    330.0    998.0       NaN      NaN   \n",
       "2  ...     IC   Invest Cont    480.0      NaN       NaN      NaN   \n",
       "3  ...     IC   Invest Cont    343.0      NaN       NaN      NaN   \n",
       "4  ...     IC   Invest Cont    510.0      NaN       NaN      NaN   \n",
       "\n",
       "                                   LOCATION Cross Street      LAT       LON  \n",
       "0   1900 S  LONGWOOD                     AV          NaN  34.0375 -118.3506  \n",
       "1   1000 S  FLOWER                       ST          NaN  34.0444 -118.2628  \n",
       "2   1400 W  37TH                         ST          NaN  34.0210 -118.3002  \n",
       "3  14000    RIVERSIDE                    DR          NaN  34.1576 -118.4387  \n",
       "4                          200 E  AVENUE 28          NaN  34.0820 -118.2130  \n",
       "\n",
       "[5 rows x 28 columns]"
      ]
     },
     "execution_count": 4,
     "metadata": {},
     "output_type": "execute_result"
    }
   ],
   "source": [
    "df.head()"
   ]
  },
  {
   "cell_type": "code",
   "execution_count": 5,
   "id": "380e9ac7",
   "metadata": {},
   "outputs": [
    {
     "name": "stdout",
     "output_type": "stream",
     "text": [
      "<class 'pandas.core.frame.DataFrame'>\n",
      "RangeIndex: 1005198 entries, 0 to 1005197\n",
      "Data columns (total 28 columns):\n",
      " #   Column          Non-Null Count    Dtype  \n",
      "---  ------          --------------    -----  \n",
      " 0   DR_NO           1005198 non-null  int64  \n",
      " 1   Date Rptd       1005198 non-null  object \n",
      " 2   DATE OCC        1005198 non-null  object \n",
      " 3   TIME OCC        1005198 non-null  int64  \n",
      " 4   AREA            1005198 non-null  int64  \n",
      " 5   AREA NAME       1005198 non-null  object \n",
      " 6   Rpt Dist No     1005198 non-null  int64  \n",
      " 7   Part 1-2        1005198 non-null  int64  \n",
      " 8   Crm Cd          1005198 non-null  int64  \n",
      " 9   Crm Cd Desc     1005198 non-null  object \n",
      " 10  Mocodes         853438 non-null   object \n",
      " 11  Vict Age        1005198 non-null  int64  \n",
      " 12  Vict Sex        860416 non-null   object \n",
      " 13  Vict Descent    860404 non-null   object \n",
      " 14  Premis Cd       1005182 non-null  float64\n",
      " 15  Premis Desc     1004610 non-null  object \n",
      " 16  Weapon Used Cd  327280 non-null   float64\n",
      " 17  Weapon Desc     327280 non-null   object \n",
      " 18  Status          1005197 non-null  object \n",
      " 19  Status Desc     1005198 non-null  object \n",
      " 20  Crm Cd 1        1005187 non-null  float64\n",
      " 21  Crm Cd 2        69159 non-null    float64\n",
      " 22  Crm Cd 3        2314 non-null     float64\n",
      " 23  Crm Cd 4        64 non-null       float64\n",
      " 24  LOCATION        1005198 non-null  object \n",
      " 25  Cross Street    154243 non-null   object \n",
      " 26  LAT             1005198 non-null  float64\n",
      " 27  LON             1005198 non-null  float64\n",
      "dtypes: float64(8), int64(7), object(13)\n",
      "memory usage: 214.7+ MB\n"
     ]
    }
   ],
   "source": [
    "df.info()"
   ]
  },
  {
   "cell_type": "code",
   "execution_count": 6,
   "id": "a0e487bc",
   "metadata": {},
   "outputs": [],
   "source": [
    "rename_columns = {\n",
    "    'DR_NO': 'Crime_Case_ID',\n",
    "    'Date Rptd': 'Reported_Date',\n",
    "    'DATE OCC': 'Occurred_Date',\n",
    "    'TIME OCC': 'Occurred_Time_Hour',\n",
    "    'AREA': 'Area_Code',\n",
    "    'AREA NAME': 'Area_Name',\n",
    "    'Rpt Dist No': 'District_SubDivision_Code',\n",
    "    'Part 1-2': 'Crime_Severity_Part',\n",
    "    'Crm Cd': 'Crime_Code',\n",
    "    'Crm Cd Desc': 'Crime_Description',\n",
    "    'Mocodes': 'Crime_Method_Codes',\n",
    "    'Vict Age': 'Victim_Age',\n",
    "    'Vict Sex': 'Victim_Gender',\n",
    "    'Vict Descent': 'Victim_Ethnicity',\n",
    "    'Premis Cd': 'Premises_Code',\n",
    "    'Premis Desc': 'Premises_Description',\n",
    "    'Weapon Used Cd': 'Weapon_Code',\n",
    "    'Weapon Desc': 'Weapon_Description',\n",
    "    'Status': 'Case_Status_Code',\n",
    "    'Status Desc': 'Case_Status_Description',\n",
    "    'Crm Cd 1': 'Additional_Crime_Code_1',\n",
    "    'Crm Cd 2': 'Additional_Crime_Code_2',\n",
    "    'Crm Cd 3': 'Additional_Crime_Code_3',\n",
    "    'Crm Cd 4': 'Additional_Crime_Code_4',\n",
    "    'LOCATION': 'Crime_Location_Address',\n",
    "    'Cross Street': 'Nearest_Cross_Street',\n",
    "    'LAT': 'Latitude',\n",
    "    'LON': 'Longitude'\n",
    "}\n",
    "\n",
    "# Apply renaming\n",
    "df.rename(columns=rename_columns, inplace=True)"
   ]
  },
  {
   "cell_type": "code",
   "execution_count": 7,
   "id": "3c82a9b1",
   "metadata": {},
   "outputs": [
    {
     "data": {
      "text/plain": [
       "Crime_Case_ID                      0\n",
       "Reported_Date                      0\n",
       "Occurred_Date                      0\n",
       "Occurred_Time_Hour                 0\n",
       "Area_Code                          0\n",
       "Area_Name                          0\n",
       "District_SubDivision_Code          0\n",
       "Crime_Severity_Part                0\n",
       "Crime_Code                         0\n",
       "Crime_Description                  0\n",
       "Crime_Method_Codes            151760\n",
       "Victim_Age                         0\n",
       "Victim_Gender                 144782\n",
       "Victim_Ethnicity              144794\n",
       "Premises_Code                     16\n",
       "Premises_Description             588\n",
       "Weapon_Code                   677918\n",
       "Weapon_Description            677918\n",
       "Case_Status_Code                   1\n",
       "Case_Status_Description            0\n",
       "Additional_Crime_Code_1           11\n",
       "Additional_Crime_Code_2       936039\n",
       "Additional_Crime_Code_3      1002884\n",
       "Additional_Crime_Code_4      1005134\n",
       "Crime_Location_Address             0\n",
       "Nearest_Cross_Street          850955\n",
       "Latitude                           0\n",
       "Longitude                          0\n",
       "dtype: int64"
      ]
     },
     "execution_count": 7,
     "metadata": {},
     "output_type": "execute_result"
    }
   ],
   "source": [
    "df.isna().sum()"
   ]
  },
  {
   "cell_type": "markdown",
   "id": "2d731d1d",
   "metadata": {},
   "source": [
    "## Crime method codes and its relation with crime Description "
   ]
  },
  {
   "cell_type": "code",
   "execution_count": 8,
   "id": "9894abf9",
   "metadata": {},
   "outputs": [
    {
     "data": {
      "text/plain": [
       "Crime_Method_Codes\n",
       "344                                   42200\n",
       "329                                   21631\n",
       "1822 0344                             14251\n",
       "325                                   10278\n",
       "0344 1822                              9841\n",
       "                                      ...  \n",
       "1822 0342 0334 0302 0432 1309 2035        1\n",
       "0913 1813 1601 0419 0429 2000 1402        1\n",
       "1402 0913 0329 0907                       1\n",
       "0421 1202 0561                            1\n",
       "0529 2024 1815 0913                       1\n",
       "Name: count, Length: 310956, dtype: int64"
      ]
     },
     "execution_count": 8,
     "metadata": {},
     "output_type": "execute_result"
    }
   ],
   "source": [
    "df['Crime_Method_Codes'].value_counts()"
   ]
  },
  {
   "cell_type": "code",
   "execution_count": 9,
   "id": "29fd13f7",
   "metadata": {},
   "outputs": [
    {
     "data": {
      "text/html": [
       "<div>\n",
       "<style scoped>\n",
       "    .dataframe tbody tr th:only-of-type {\n",
       "        vertical-align: middle;\n",
       "    }\n",
       "\n",
       "    .dataframe tbody tr th {\n",
       "        vertical-align: top;\n",
       "    }\n",
       "\n",
       "    .dataframe thead th {\n",
       "        text-align: right;\n",
       "    }\n",
       "</style>\n",
       "<table border=\"1\" class=\"dataframe\">\n",
       "  <thead>\n",
       "    <tr style=\"text-align: right;\">\n",
       "      <th></th>\n",
       "      <th>Crime_Method_Codes</th>\n",
       "      <th>Crime_Description</th>\n",
       "    </tr>\n",
       "  </thead>\n",
       "  <tbody>\n",
       "    <tr>\n",
       "      <th>0</th>\n",
       "      <td>NaN</td>\n",
       "      <td>VEHICLE - STOLEN</td>\n",
       "    </tr>\n",
       "    <tr>\n",
       "      <th>1</th>\n",
       "      <td>1822 1402 0344</td>\n",
       "      <td>BURGLARY FROM VEHICLE</td>\n",
       "    </tr>\n",
       "    <tr>\n",
       "      <th>2</th>\n",
       "      <td>0344 1251</td>\n",
       "      <td>BIKE - STOLEN</td>\n",
       "    </tr>\n",
       "    <tr>\n",
       "      <th>3</th>\n",
       "      <td>0325 1501</td>\n",
       "      <td>SHOPLIFTING-GRAND THEFT ($950.01 &amp; OVER)</td>\n",
       "    </tr>\n",
       "    <tr>\n",
       "      <th>4</th>\n",
       "      <td>NaN</td>\n",
       "      <td>VEHICLE - STOLEN</td>\n",
       "    </tr>\n",
       "    <tr>\n",
       "      <th>5</th>\n",
       "      <td>NaN</td>\n",
       "      <td>VEHICLE - STOLEN</td>\n",
       "    </tr>\n",
       "    <tr>\n",
       "      <th>6</th>\n",
       "      <td>0329 1402 2004 1501</td>\n",
       "      <td>ARSON</td>\n",
       "    </tr>\n",
       "    <tr>\n",
       "      <th>7</th>\n",
       "      <td>NaN</td>\n",
       "      <td>VEHICLE - STOLEN</td>\n",
       "    </tr>\n",
       "    <tr>\n",
       "      <th>8</th>\n",
       "      <td>NaN</td>\n",
       "      <td>VEHICLE - STOLEN</td>\n",
       "    </tr>\n",
       "    <tr>\n",
       "      <th>9</th>\n",
       "      <td>NaN</td>\n",
       "      <td>VEHICLE - STOLEN</td>\n",
       "    </tr>\n",
       "    <tr>\n",
       "      <th>10</th>\n",
       "      <td>NaN</td>\n",
       "      <td>VEHICLE - STOLEN</td>\n",
       "    </tr>\n",
       "    <tr>\n",
       "      <th>11</th>\n",
       "      <td>0344 1607</td>\n",
       "      <td>BURGLARY</td>\n",
       "    </tr>\n",
       "    <tr>\n",
       "      <th>12</th>\n",
       "      <td>NaN</td>\n",
       "      <td>VEHICLE - STOLEN</td>\n",
       "    </tr>\n",
       "    <tr>\n",
       "      <th>13</th>\n",
       "      <td>NaN</td>\n",
       "      <td>VEHICLE - STOLEN</td>\n",
       "    </tr>\n",
       "    <tr>\n",
       "      <th>14</th>\n",
       "      <td>NaN</td>\n",
       "      <td>VEHICLE - STOLEN</td>\n",
       "    </tr>\n",
       "    <tr>\n",
       "      <th>15</th>\n",
       "      <td>1609 0344</td>\n",
       "      <td>BURGLARY</td>\n",
       "    </tr>\n",
       "    <tr>\n",
       "      <th>16</th>\n",
       "      <td>NaN</td>\n",
       "      <td>VEHICLE - STOLEN</td>\n",
       "    </tr>\n",
       "    <tr>\n",
       "      <th>17</th>\n",
       "      <td>NaN</td>\n",
       "      <td>VEHICLE - STOLEN</td>\n",
       "    </tr>\n",
       "    <tr>\n",
       "      <th>18</th>\n",
       "      <td>NaN</td>\n",
       "      <td>VEHICLE - STOLEN</td>\n",
       "    </tr>\n",
       "    <tr>\n",
       "      <th>19</th>\n",
       "      <td>1300 1402</td>\n",
       "      <td>PIMPING</td>\n",
       "    </tr>\n",
       "  </tbody>\n",
       "</table>\n",
       "</div>"
      ],
      "text/plain": [
       "     Crime_Method_Codes                         Crime_Description\n",
       "0                   NaN                          VEHICLE - STOLEN\n",
       "1        1822 1402 0344                     BURGLARY FROM VEHICLE\n",
       "2             0344 1251                             BIKE - STOLEN\n",
       "3             0325 1501  SHOPLIFTING-GRAND THEFT ($950.01 & OVER)\n",
       "4                   NaN                          VEHICLE - STOLEN\n",
       "5                   NaN                          VEHICLE - STOLEN\n",
       "6   0329 1402 2004 1501                                     ARSON\n",
       "7                   NaN                          VEHICLE - STOLEN\n",
       "8                   NaN                          VEHICLE - STOLEN\n",
       "9                   NaN                          VEHICLE - STOLEN\n",
       "10                  NaN                          VEHICLE - STOLEN\n",
       "11            0344 1607                                  BURGLARY\n",
       "12                  NaN                          VEHICLE - STOLEN\n",
       "13                  NaN                          VEHICLE - STOLEN\n",
       "14                  NaN                          VEHICLE - STOLEN\n",
       "15            1609 0344                                  BURGLARY\n",
       "16                  NaN                          VEHICLE - STOLEN\n",
       "17                  NaN                          VEHICLE - STOLEN\n",
       "18                  NaN                          VEHICLE - STOLEN\n",
       "19            1300 1402                                   PIMPING"
      ]
     },
     "execution_count": 9,
     "metadata": {},
     "output_type": "execute_result"
    }
   ],
   "source": [
    "df[['Crime_Method_Codes', 'Crime_Description']].head(20)"
   ]
  },
  {
   "cell_type": "code",
   "execution_count": 10,
   "id": "22e5c108",
   "metadata": {},
   "outputs": [
    {
     "name": "stdout",
     "output_type": "stream",
     "text": [
      "Number of 'VEHICLE - STOLEN' cases with null 'Crime_Method_Codes': 114699\n"
     ]
    }
   ],
   "source": [
    "null_Crime_Method_Codes_df = df[df['Crime_Method_Codes'].isnull()]\n",
    "vehicle_stolen_null_Crime_Method_Codes_count = null_Crime_Method_Codes_df[null_Crime_Method_Codes_df['Crime_Description'] == 'VEHICLE - STOLEN'].shape[0]\n",
    "print(f\"Number of 'VEHICLE - STOLEN' cases with null 'Crime_Method_Codes': {vehicle_stolen_null_Crime_Method_Codes_count}\")"
   ]
  },
  {
   "cell_type": "code",
   "execution_count": 11,
   "id": "b05bd5a0",
   "metadata": {},
   "outputs": [
    {
     "name": "stdout",
     "output_type": "stream",
     "text": [
      "Percentage of null Mocodes with \"VEHICLE - STOLEN\": 75.58%\n"
     ]
    }
   ],
   "source": [
    "total_null_mocodes_count = null_Crime_Method_Codes_df.shape[0]\n",
    "percentage = (vehicle_stolen_null_Crime_Method_Codes_count / total_null_mocodes_count) * 100\n",
    "print(f'Percentage of null Mocodes with \"VEHICLE - STOLEN\": {percentage:.2f}%')\n"
   ]
  },
  {
   "cell_type": "code",
   "execution_count": 12,
   "id": "72c1ec8c",
   "metadata": {},
   "outputs": [],
   "source": [
    "df.loc[(df['Crime_Description'] == 'VEHICLE - STOLEN') & (df['Crime_Method_Codes'].isnull()), 'Crime_Method_Codes'] = 'Vehicle Theft Method'\n",
    "df['Crime_Method_Codes'].fillna('Unknown', inplace=True)"
   ]
  },
  {
   "cell_type": "markdown",
   "id": "b110125b",
   "metadata": {},
   "source": [
    "## Victim Gender , Victim Ethnicity"
   ]
  },
  {
   "cell_type": "code",
   "execution_count": 13,
   "id": "0fc8ab6d",
   "metadata": {},
   "outputs": [],
   "source": [
    "df['Victim_Gender'].fillna('Unknown', inplace=True)\n",
    "df['Victim_Ethnicity'].fillna('Unknown', inplace=True)"
   ]
  },
  {
   "cell_type": "markdown",
   "id": "97d623ff",
   "metadata": {},
   "source": [
    "## Premises code ,Premises Description "
   ]
  },
  {
   "cell_type": "code",
   "execution_count": 14,
   "id": "310383e7",
   "metadata": {},
   "outputs": [],
   "source": [
    "df['Premises_Code'].fillna('Unknown', inplace=True)\n",
    "df['Premises_Description'].fillna('Unknown', inplace=True)"
   ]
  },
  {
   "cell_type": "markdown",
   "id": "d0927c65",
   "metadata": {},
   "source": [
    "## Weapon Code , Weapon Description ,Status"
   ]
  },
  {
   "cell_type": "code",
   "execution_count": 15,
   "id": "30515dca",
   "metadata": {},
   "outputs": [],
   "source": [
    "df['Weapon_Description'] = df['Weapon_Description'].fillna('No Weapon Used')\n",
    "df['Weapon_Code'] = df['Weapon_Code'].fillna(0) \n",
    "df['Case_Status_Code'] = df['Case_Status_Code'].fillna('Unknown')"
   ]
  },
  {
   "cell_type": "markdown",
   "id": "16c45fb6",
   "metadata": {},
   "source": [
    "## Additional_Crime_Code"
   ]
  },
  {
   "cell_type": "code",
   "execution_count": null,
   "id": "ad9af1a0",
   "metadata": {},
   "outputs": [],
   "source": [
    "df['Additional_Crime_Code_1'].fillna('Unknown', inplace=True)\n",
    "df['Additional_Crime_Code_2'].fillna('Unknown', inplace=True)  \n",
    "df['Additional_Crime_Code_3'].fillna('Unknown', inplace=True)\n",
    "df['Additional_Crime_Code_4'].fillna('Unknown', inplace=True)\n",
    "df.drop(columns=['Nearest_Cross_Street'],inplace=True)"
   ]
  },
  {
   "cell_type": "code",
   "execution_count": null,
   "id": "c63e497e",
   "metadata": {},
   "outputs": [
    {
     "data": {
      "text/plain": [
       "Crime_Case_ID                0\n",
       "Reported_Date                0\n",
       "Occurred_Date                0\n",
       "Occurred_Time_Hour           0\n",
       "Area_Code                    0\n",
       "Area_Name                    0\n",
       "District_SubDivision_Code    0\n",
       "Crime_Severity_Part          0\n",
       "Crime_Code                   0\n",
       "Crime_Description            0\n",
       "Crime_Method_Codes           0\n",
       "Victim_Age                   0\n",
       "Victim_Gender                0\n",
       "Victim_Ethnicity             0\n",
       "Premises_Code                0\n",
       "Premises_Description         0\n",
       "Weapon_Code                  0\n",
       "Weapon_Description           0\n",
       "Case_Status_Code             0\n",
       "Case_Status_Description      0\n",
       "Additional_Crime_Code_1      0\n",
       "Additional_Crime_Code_2      0\n",
       "Additional_Crime_Code_3      0\n",
       "Additional_Crime_Code_4      0\n",
       "Crime_Location_Address       0\n",
       "Latitude                     0\n",
       "Longitude                    0\n",
       "dtype: int64"
      ]
     },
     "execution_count": 17,
     "metadata": {},
     "output_type": "execute_result"
    }
   ],
   "source": [
    "df.isna().sum()"
   ]
  },
  {
   "cell_type": "code",
   "execution_count": 18,
   "id": "0680415c",
   "metadata": {},
   "outputs": [],
   "source": [
    "df.to_csv('cleaned_crime_data.csv', index=False)"
   ]
  }
 ],
 "metadata": {
  "kernelspec": {
   "display_name": "base",
   "language": "python",
   "name": "python3"
  },
  "language_info": {
   "codemirror_mode": {
    "name": "ipython",
    "version": 3
   },
   "file_extension": ".py",
   "mimetype": "text/x-python",
   "name": "python",
   "nbconvert_exporter": "python",
   "pygments_lexer": "ipython3",
   "version": "3.12.4"
  }
 },
 "nbformat": 4,
 "nbformat_minor": 5
}
